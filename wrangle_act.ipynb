{
 "cells": [
  {
   "cell_type": "markdown",
   "metadata": {
    "extensions": {
     "jupyter_dashboards": {
      "version": 1,
      "views": {
       "grid_default": {
        "col": 0,
        "height": 4,
        "hidden": false,
        "row": 0,
        "width": 4
       },
       "report_default": {
        "hidden": false
       }
      }
     }
    }
   },
   "source": [
    "# Project: Wrangling and Analyze Data\n",
    "\n",
    "## Table of Contents\n",
    "<ul>\n",
    "<li><a href=\"#intro\">Introduction</a></li>\n",
    "<li><a href=\"#DG\">Data Gathering</a></li>\n",
    "<li><a href=\"#AD\">Assessing Data</a></li>\n",
    "<li><a href=\"#CD\">Cleaning Data</a></li>\n",
    "<li><a href=\"#SD\">Storing Data</a></li>\n",
    "<li><a href=\"#AVD\">Analyzing and Visualizing Data</a></li>\n",
    "</ul>"
   ]
  },
  {
   "cell_type": "markdown",
   "metadata": {},
   "source": [
    "<a id='intro'></a>\n",
    "## Introduction\n",
    "\n",
    "This project is a Data wrangling project which will be based on WeRateDogs Twitter data.\n",
    "This project's goal is to gather data from a various sources and in various forms, assess its quality and tidiness, and then do the necessary cleaning to prepare it for insightful analysis and visualizations."
   ]
  },
  {
   "cell_type": "code",
   "execution_count": null,
   "metadata": {
    "ExecuteTime": {
     "end_time": "2022-12-20T18:56:11.067362Z",
     "start_time": "2022-12-20T18:56:09.657133Z"
    }
   },
   "outputs": [],
   "source": [
    "# importing every necessary library\n",
    "\n",
    "import json\n",
    "import requests\n",
    "from functools import reduce\n",
    "import pandas as pd\n",
    "import numpy as np\n",
    "import matplotlib.pyplot as plt"
   ]
  },
  {
   "cell_type": "markdown",
   "metadata": {},
   "source": [
    "<a id='DG'></a>\n",
    "## Data Gathering\n",
    "All three pieces of data needed for this project were obtained and loaded into the notebook in the cells below."
   ]
  },
  {
   "cell_type": "code",
   "execution_count": null,
   "metadata": {
    "ExecuteTime": {
     "end_time": "2022-12-20T18:56:11.130192Z",
     "start_time": "2022-12-20T18:56:11.070354Z"
    },
    "extensions": {
     "jupyter_dashboards": {
      "version": 1,
      "views": {
       "grid_default": {
        "hidden": true
       },
       "report_default": {
        "hidden": true
       }
      }
     }
    }
   },
   "outputs": [],
   "source": [
    "# Reading the twitter-archive-enhanced file\n",
    "# saving it as a dataframe with the name dog_rate\n",
    "\n",
    "dog_rate = pd.read_csv('twitter-archive-enhanced.csv')"
   ]
  },
  {
   "cell_type": "code",
   "execution_count": null,
   "metadata": {
    "ExecuteTime": {
     "end_time": "2022-12-20T18:56:11.178067Z",
     "start_time": "2022-12-20T18:56:11.132188Z"
    }
   },
   "outputs": [],
   "source": [
    "# displaying few top rows from the dog_rate dataframe\n",
    "\n",
    "dog_rate.head()"
   ]
  },
  {
   "cell_type": "code",
   "execution_count": null,
   "metadata": {
    "ExecuteTime": {
     "end_time": "2022-12-20T18:56:11.208982Z",
     "start_time": "2022-12-20T18:56:11.182055Z"
    }
   },
   "outputs": [],
   "source": [
    "# displaying some information about the dog_rate dataframe\n",
    "\n",
    "dog_rate.info()"
   ]
  },
  {
   "cell_type": "code",
   "execution_count": null,
   "metadata": {
    "ExecuteTime": {
     "end_time": "2022-12-20T18:56:11.224940Z",
     "start_time": "2022-12-20T18:56:11.212972Z"
    }
   },
   "outputs": [],
   "source": [
    "dog_rate.name.value_counts()"
   ]
  },
  {
   "cell_type": "code",
   "execution_count": null,
   "metadata": {
    "ExecuteTime": {
     "end_time": "2022-12-20T18:56:11.240897Z",
     "start_time": "2022-12-20T18:56:11.228929Z"
    }
   },
   "outputs": [],
   "source": [
    "# Viewing the count of the unique values in rating_numerator column\n",
    "\n",
    "dog_rate.rating_numerator.value_counts()"
   ]
  },
  {
   "cell_type": "code",
   "execution_count": null,
   "metadata": {
    "ExecuteTime": {
     "end_time": "2022-12-20T18:56:11.256855Z",
     "start_time": "2022-12-20T18:56:11.243895Z"
    }
   },
   "outputs": [],
   "source": [
    "# Viewing the count of the unique values in rating_denominator column\n",
    "\n",
    "dog_rate.rating_denominator.value_counts()"
   ]
  },
  {
   "cell_type": "code",
   "execution_count": null,
   "metadata": {
    "ExecuteTime": {
     "end_time": "2022-12-20T18:56:11.288769Z",
     "start_time": "2022-12-20T18:56:11.259847Z"
    }
   },
   "outputs": [],
   "source": [
    "# Checking for duplicates in the dog_rate dataframe\n",
    "\n",
    "dog_rate.duplicated().sum()"
   ]
  },
  {
   "cell_type": "markdown",
   "metadata": {},
   "source": [
    "2. Use the Requests library to download the tweet image prediction (image_predictions.tsv)"
   ]
  },
  {
   "cell_type": "code",
   "execution_count": null,
   "metadata": {
    "ExecuteTime": {
     "end_time": "2022-12-20T18:56:12.628337Z",
     "start_time": "2022-12-20T18:56:11.290764Z"
    }
   },
   "outputs": [],
   "source": [
    "# saving the web address of image_predictions file to a variable\n",
    "url = 'https://d17h27t6h515a5.cloudfront.net/topher/2017/August/599fd2ad_image-predictions/image-predictions.tsv'\n",
    "\n",
    "# Use the Requests library to download the tweet image prediction file using the url address\n",
    "r = requests.get(url, allow_redirects=True)"
   ]
  },
  {
   "cell_type": "code",
   "execution_count": null,
   "metadata": {
    "ExecuteTime": {
     "end_time": "2022-12-20T18:56:12.643149Z",
     "start_time": "2022-12-20T18:56:12.633173Z"
    }
   },
   "outputs": [],
   "source": [
    "# Checking for the status of the request sent\n",
    "\n",
    "r.status_code"
   ]
  },
  {
   "cell_type": "code",
   "execution_count": null,
   "metadata": {
    "ExecuteTime": {
     "end_time": "2022-12-20T18:56:12.659105Z",
     "start_time": "2022-12-20T18:56:12.645142Z"
    }
   },
   "outputs": [],
   "source": [
    "# Checking for the content type of the file downloaded\n",
    "\n",
    "r.headers.get('content-type')"
   ]
  },
  {
   "cell_type": "code",
   "execution_count": null,
   "metadata": {
    "ExecuteTime": {
     "end_time": "2022-12-20T18:56:12.676061Z",
     "start_time": "2022-12-20T18:56:12.661099Z"
    }
   },
   "outputs": [],
   "source": [
    "# Writing the file into my local computer\n",
    "\n",
    "open('image-predictions.tsv', 'wb').write(r.content)"
   ]
  },
  {
   "cell_type": "code",
   "execution_count": null,
   "metadata": {
    "ExecuteTime": {
     "end_time": "2022-12-20T18:56:12.706976Z",
     "start_time": "2022-12-20T18:56:12.680048Z"
    }
   },
   "outputs": [],
   "source": [
    "# Reading the image-predictions file\n",
    "# saving it as a dataframe with the name image_predictions\n",
    "\n",
    "image_predictions = pd.read_csv('image-predictions.tsv', sep = '\\t')"
   ]
  },
  {
   "cell_type": "code",
   "execution_count": null,
   "metadata": {
    "ExecuteTime": {
     "end_time": "2022-12-20T18:56:12.738892Z",
     "start_time": "2022-12-20T18:56:12.710965Z"
    }
   },
   "outputs": [],
   "source": [
    "# displaying few top rows from the image_predictions dataframe\n",
    "\n",
    "image_predictions.head()"
   ]
  },
  {
   "cell_type": "code",
   "execution_count": null,
   "metadata": {
    "ExecuteTime": {
     "end_time": "2022-12-20T18:56:12.770805Z",
     "start_time": "2022-12-20T18:56:12.742880Z"
    }
   },
   "outputs": [],
   "source": [
    "# displaying some information about the image_predictions dataframe\n",
    "\n",
    "image_predictions.info()"
   ]
  },
  {
   "cell_type": "code",
   "execution_count": null,
   "metadata": {
    "ExecuteTime": {
     "end_time": "2022-12-20T18:56:12.801723Z",
     "start_time": "2022-12-20T18:56:12.773798Z"
    }
   },
   "outputs": [],
   "source": [
    "# Checking for duplicates in the image_predictions dataframe\n",
    "\n",
    "image_predictions.duplicated().sum()"
   ]
  },
  {
   "cell_type": "markdown",
   "metadata": {},
   "source": [
    "3. Use the Tweepy library to query additional data via the Twitter API (tweet_json.txt)"
   ]
  },
  {
   "cell_type": "code",
   "execution_count": null,
   "metadata": {
    "ExecuteTime": {
     "end_time": "2022-12-20T18:56:13.118211Z",
     "start_time": "2022-12-20T18:56:12.804714Z"
    }
   },
   "outputs": [],
   "source": [
    "# Reading a text file line by line\n",
    "# using the text to form a list of dictionaries\n",
    "\n",
    "with open('tweet-json.txt') as file:\n",
    "    tweets = []\n",
    "    for line in file:\n",
    "        tweets.append(json.loads(line))"
   ]
  },
  {
   "cell_type": "code",
   "execution_count": null,
   "metadata": {
    "ExecuteTime": {
     "end_time": "2022-12-20T18:56:13.132837Z",
     "start_time": "2022-12-20T18:56:13.119874Z"
    }
   },
   "outputs": [],
   "source": [
    "# Create a dataframe from tweet_list of dictionaries\n",
    "# saving it as a dataframe with the name tweets_df\n",
    "\n",
    "tweets_df = pd.DataFrame(tweets, columns = ['id', 'retweet_count', 'favorite_count'])"
   ]
  },
  {
   "cell_type": "code",
   "execution_count": null,
   "metadata": {
    "ExecuteTime": {
     "end_time": "2022-12-20T18:56:13.164751Z",
     "start_time": "2022-12-20T18:56:13.136839Z"
    }
   },
   "outputs": [],
   "source": [
    "# displaying few top rows from the tweets_df dataframe\n",
    "\n",
    "tweets_df.head()"
   ]
  },
  {
   "cell_type": "code",
   "execution_count": null,
   "metadata": {
    "ExecuteTime": {
     "end_time": "2022-12-20T18:56:13.196666Z",
     "start_time": "2022-12-20T18:56:13.167745Z"
    }
   },
   "outputs": [],
   "source": [
    "# displaying some information about the tweets_df dataframe\n",
    "\n",
    "tweets_df.info()"
   ]
  },
  {
   "cell_type": "code",
   "execution_count": null,
   "metadata": {
    "ExecuteTime": {
     "end_time": "2022-12-20T18:56:13.211627Z",
     "start_time": "2022-12-20T18:56:13.199659Z"
    }
   },
   "outputs": [],
   "source": [
    "# Checking for duplicates in the tweets_df dataframe\n",
    "\n",
    "tweets_df.duplicated().sum()"
   ]
  },
  {
   "cell_type": "markdown",
   "metadata": {
    "extensions": {
     "jupyter_dashboards": {
      "version": 1,
      "views": {
       "grid_default": {
        "col": 4,
        "height": 4,
        "hidden": false,
        "row": 28,
        "width": 4
       },
       "report_default": {
        "hidden": false
       }
      }
     }
    }
   },
   "source": [
    "<a id='AD'></a>\n",
    "## Assessing Data\n",
    "In this section, at least eight (8) quality issues and two (2) tidiness issue were found and documented. Evaluating the data through both programmatic and visual assessment."
   ]
  },
  {
   "cell_type": "markdown",
   "metadata": {},
   "source": [
    "### Quality issues\n",
    "#### dog_rate table\n",
    "1. incorrect datatype in the timestamp column.\n",
    "2. No need for the replies and retweet rows.\n",
    "3. No need for the replies and retweet columns.\n",
    "4. In rating_denominator, some values are less than 10.\n",
    "\n",
    "#### image_predictions table\n",
    "5. The names in the P columns have some lowercase and some uppercase initials.\n",
    "6. The conf should be written completely to facilitate understanding.\n",
    "\n",
    "#### tweets_json table\n",
    "7. To match the other tables, the id field should be \"tweet id.\"\n",
    "8. No need for the retweet_count column."
   ]
  },
  {
   "cell_type": "markdown",
   "metadata": {
    "extensions": {
     "jupyter_dashboards": {
      "version": 1,
      "views": {
       "grid_default": {
        "col": 0,
        "height": 7,
        "hidden": false,
        "row": 40,
        "width": 12
       },
       "report_default": {
        "hidden": false
       }
      }
     }
    }
   },
   "source": [
    "### Tidiness issues\n",
    "1. There should be just one column for doggo, floofer, pupper, and puppo in \n",
    "\n",
    "2. Create a single dataframe from the three gathered data."
   ]
  },
  {
   "cell_type": "markdown",
   "metadata": {
    "extensions": {
     "jupyter_dashboards": {
      "version": 1,
      "views": {
       "grid_default": {
        "col": 4,
        "height": 4,
        "hidden": false,
        "row": 32,
        "width": 4
       },
       "report_default": {
        "hidden": false
       }
      }
     }
    }
   },
   "source": [
    "<a id='CD'></a>\n",
    "## Cleaning Data\n",
    "In this section, all the data issues noted during the data assessment were fixed."
   ]
  },
  {
   "cell_type": "code",
   "execution_count": null,
   "metadata": {
    "ExecuteTime": {
     "end_time": "2022-12-20T18:56:13.227585Z",
     "start_time": "2022-12-20T18:56:13.215616Z"
    }
   },
   "outputs": [],
   "source": [
    "# Make copies of original pieces of data\n",
    "\n",
    "clean_dog_rate = dog_rate.copy()\n",
    "clean_image_predictions = image_predictions.copy()\n",
    "clean_tweets_df = tweets_df.copy()"
   ]
  },
  {
   "cell_type": "code",
   "execution_count": null,
   "metadata": {
    "ExecuteTime": {
     "end_time": "2022-12-20T18:56:13.259499Z",
     "start_time": "2022-12-20T18:56:13.231574Z"
    }
   },
   "outputs": [],
   "source": [
    "clean_dog_rate.info()"
   ]
  },
  {
   "cell_type": "markdown",
   "metadata": {},
   "source": [
    "### Quality 1 - dog_rate table: incorrect datatype in the timestamp column."
   ]
  },
  {
   "cell_type": "markdown",
   "metadata": {},
   "source": [
    "#### Define\n",
    "The timestamp column's datatype should be \"Datetime\" and not \"str.\""
   ]
  },
  {
   "cell_type": "markdown",
   "metadata": {},
   "source": [
    "#### Code"
   ]
  },
  {
   "cell_type": "code",
   "execution_count": null,
   "metadata": {
    "ExecuteTime": {
     "end_time": "2022-12-20T18:56:13.275456Z",
     "start_time": "2022-12-20T18:56:13.261495Z"
    }
   },
   "outputs": [],
   "source": [
    "# used .astype on timestamp column to modify the column's datatype\n",
    "# then reassign it to the column to make the desired change\n",
    "\n",
    "clean_dog_rate['timestamp'] = clean_dog_rate['timestamp'].astype('datetime64[ns]')"
   ]
  },
  {
   "cell_type": "markdown",
   "metadata": {},
   "source": [
    "#### Test"
   ]
  },
  {
   "cell_type": "code",
   "execution_count": null,
   "metadata": {
    "ExecuteTime": {
     "end_time": "2022-12-20T18:56:13.307369Z",
     "start_time": "2022-12-20T18:56:13.279448Z"
    }
   },
   "outputs": [],
   "source": [
    "# displaying some information about the clean_dog_rate dataframe\n",
    "# to determine whether the required change has been made\n",
    "\n",
    "clean_dog_rate.info()"
   ]
  },
  {
   "cell_type": "markdown",
   "metadata": {
    "ExecuteTime": {
     "end_time": "2022-12-20T17:53:24.629472Z",
     "start_time": "2022-12-20T17:53:24.617366Z"
    }
   },
   "source": [
    "### Quality 2 - dog_rate table: No need for the replies and retweet rows."
   ]
  },
  {
   "cell_type": "markdown",
   "metadata": {},
   "source": [
    "#### Define\n",
    "The following columns' 78 replies need to be removed:\n",
    "- 'in_reply_to_status_id'\n",
    "- 'in_reply_to_user_id'\n",
    "\n",
    "The following columns' 181 retweet need to be removed:\n",
    "- 'retweeted_status_id'\n",
    "- 'retweeted_status_user_id', and\n",
    "- 'retweeted_status_timestamp'"
   ]
  },
  {
   "cell_type": "markdown",
   "metadata": {},
   "source": [
    "#### Code"
   ]
  },
  {
   "cell_type": "code",
   "execution_count": null,
   "metadata": {
    "ExecuteTime": {
     "end_time": "2022-12-20T18:56:13.339285Z",
     "start_time": "2022-12-20T18:56:13.310362Z"
    }
   },
   "outputs": [],
   "source": [
    "#Remove replies and retweeted tweets \n",
    "\n",
    "clean_dog_rate = clean_dog_rate[clean_dog_rate.in_reply_to_status_id.isnull()]\n",
    "clean_dog_rate = clean_dog_rate[clean_dog_rate.in_reply_to_user_id.isnull()]\n",
    "clean_dog_rate = clean_dog_rate[clean_dog_rate.retweeted_status_id.isnull()]\n",
    "clean_dog_rate = clean_dog_rate[clean_dog_rate.retweeted_status_user_id.isnull()]\n",
    "clean_dog_rate = clean_dog_rate[clean_dog_rate.retweeted_status_timestamp.isnull()]"
   ]
  },
  {
   "cell_type": "markdown",
   "metadata": {},
   "source": [
    "#### Test"
   ]
  },
  {
   "cell_type": "code",
   "execution_count": null,
   "metadata": {
    "ExecuteTime": {
     "end_time": "2022-12-20T18:56:13.371200Z",
     "start_time": "2022-12-20T18:56:13.342278Z"
    }
   },
   "outputs": [],
   "source": [
    "# displaying some information about the clean_dog_rate dataframe\n",
    "# to determine whether the required change has been made\n",
    "\n",
    "clean_dog_rate.info()"
   ]
  },
  {
   "cell_type": "markdown",
   "metadata": {},
   "source": [
    "### Quality 3 - dog_rate table: No need for the replies and retweet columns."
   ]
  },
  {
   "cell_type": "markdown",
   "metadata": {},
   "source": [
    "#### Define\n",
    "The following columns must be removed because they are not necessary for this analysis:\n",
    "- 'in_reply_to_status_id'\n",
    "- 'in_reply_to_user_id'\n",
    "- 'retweeted_status_id'\n",
    "- 'retweeted_status_user_id', and\n",
    "- 'retweeted_status_timestamp'"
   ]
  },
  {
   "cell_type": "markdown",
   "metadata": {},
   "source": [
    "#### Code"
   ]
  },
  {
   "cell_type": "code",
   "execution_count": null,
   "metadata": {
    "ExecuteTime": {
     "end_time": "2022-12-20T18:56:13.387158Z",
     "start_time": "2022-12-20T18:56:13.378182Z"
    }
   },
   "outputs": [],
   "source": [
    "# used .drop to remove the aforementioned columns\n",
    "# used inplace = True to effect the change in the main copied data\n",
    "\n",
    "clean_dog_rate.drop(['in_reply_to_status_id', 'in_reply_to_user_id', 'retweeted_status_id', 'retweeted_status_user_id', 'retweeted_status_timestamp'], axis=1, inplace=True)"
   ]
  },
  {
   "cell_type": "markdown",
   "metadata": {},
   "source": [
    "#### Test"
   ]
  },
  {
   "cell_type": "code",
   "execution_count": null,
   "metadata": {
    "ExecuteTime": {
     "end_time": "2022-12-20T18:56:13.403115Z",
     "start_time": "2022-12-20T18:56:13.391147Z"
    }
   },
   "outputs": [],
   "source": [
    "# displaying the list of the columns in clean_dog_rate dataframe\n",
    "# to determine whether the required change has been made\n",
    "\n",
    "list(clean_dog_rate.columns)\n",
    "# clean_dog_rate.info()"
   ]
  },
  {
   "cell_type": "markdown",
   "metadata": {},
   "source": [
    "### Quality 4 - dog_rate table: In rating_denominator, some values are less than 10."
   ]
  },
  {
   "cell_type": "markdown",
   "metadata": {},
   "source": [
    "#### Define\n",
    "Replacing the values less than 10 in rating_denominator to 10"
   ]
  },
  {
   "cell_type": "markdown",
   "metadata": {},
   "source": [
    "#### Code"
   ]
  },
  {
   "cell_type": "code",
   "execution_count": null,
   "metadata": {
    "ExecuteTime": {
     "end_time": "2022-12-20T18:56:13.419081Z",
     "start_time": "2022-12-20T18:56:13.405109Z"
    }
   },
   "outputs": [],
   "source": [
    "# used .loc to find values in the rating_denominator column that were less than 10\n",
    "# then replace them with 10\n",
    "\n",
    "clean_dog_rate.loc[clean_dog_rate[\"rating_denominator\"] < 10, \"rating_denominator\"] = 10"
   ]
  },
  {
   "cell_type": "markdown",
   "metadata": {},
   "source": [
    "#### Test"
   ]
  },
  {
   "cell_type": "code",
   "execution_count": null,
   "metadata": {
    "ExecuteTime": {
     "end_time": "2022-12-20T18:56:13.434034Z",
     "start_time": "2022-12-20T18:56:13.422065Z"
    }
   },
   "outputs": [],
   "source": [
    "# checking the number of less-than-10 entries in the rating_denominator column\n",
    "# to determine whether the required change has been made\n",
    "\n",
    "(clean_dog_rate.rating_denominator < 10).sum()"
   ]
  },
  {
   "cell_type": "markdown",
   "metadata": {},
   "source": [
    "### Quality 5 - image_predictions table: The names in the P columns have some lowercase and some uppercase initials."
   ]
  },
  {
   "cell_type": "markdown",
   "metadata": {},
   "source": [
    "#### Define\n",
    "The first letter will be capitalized for all P columns."
   ]
  },
  {
   "cell_type": "markdown",
   "metadata": {},
   "source": [
    "#### Code"
   ]
  },
  {
   "cell_type": "code",
   "execution_count": null,
   "metadata": {
    "ExecuteTime": {
     "end_time": "2022-12-20T18:56:13.463953Z",
     "start_time": "2022-12-20T18:56:13.436026Z"
    }
   },
   "outputs": [],
   "source": [
    "# used .title to change the values in p1, p2 and p3 to title case\n",
    "# then reassign it to the column to make the desired change\n",
    "\n",
    "clean_image_predictions.p1 = clean_image_predictions.p1.str.title()\n",
    "clean_image_predictions.p2 = clean_image_predictions.p2.str.title()\n",
    "clean_image_predictions.p3 = clean_image_predictions.p3.str.title()"
   ]
  },
  {
   "cell_type": "markdown",
   "metadata": {},
   "source": [
    "#### Test"
   ]
  },
  {
   "cell_type": "code",
   "execution_count": null,
   "metadata": {
    "ExecuteTime": {
     "end_time": "2022-12-20T18:56:13.495866Z",
     "start_time": "2022-12-20T18:56:13.466943Z"
    }
   },
   "outputs": [],
   "source": [
    "# displaying few top rows from the image_predictions dataframe\n",
    "# to determine whether the required change has been made\n",
    "\n",
    "clean_image_predictions.head()"
   ]
  },
  {
   "cell_type": "markdown",
   "metadata": {},
   "source": [
    "### Quality 6 - The conf should be written completely to facilitate understanding."
   ]
  },
  {
   "cell_type": "markdown",
   "metadata": {},
   "source": [
    "#### Define\n",
    "Using the rename method to change the conf of the P column to confident."
   ]
  },
  {
   "cell_type": "markdown",
   "metadata": {},
   "source": [
    "#### Code"
   ]
  },
  {
   "cell_type": "code",
   "execution_count": null,
   "metadata": {
    "ExecuteTime": {
     "end_time": "2022-12-20T18:56:13.510864Z",
     "start_time": "2022-12-20T18:56:13.497860Z"
    }
   },
   "outputs": [],
   "source": [
    "# Creating a dictionary for the old_name as the key and new_name as the value\n",
    "dict = {'p1_conf': 'p1_confident',\n",
    "        'p2_conf': 'p2_confident',\n",
    "        'p3_conf': 'p3_confident'}\n",
    " \n",
    "# call rename () method and pass in the dictionary ceated above\n",
    "clean_image_predictions.rename(columns=dict, inplace=True)"
   ]
  },
  {
   "cell_type": "markdown",
   "metadata": {
    "ExecuteTime": {
     "end_time": "2022-12-20T18:40:38.876503Z",
     "start_time": "2022-12-20T18:40:38.862541Z"
    }
   },
   "source": [
    "#### Test"
   ]
  },
  {
   "cell_type": "code",
   "execution_count": null,
   "metadata": {
    "ExecuteTime": {
     "end_time": "2022-12-20T18:56:13.526792Z",
     "start_time": "2022-12-20T18:56:13.515814Z"
    }
   },
   "outputs": [],
   "source": [
    "# displaying column names for image_predictions dataframe\n",
    "# to determine whether the required change has been made\n",
    "\n",
    "clean_image_predictions.columns"
   ]
  },
  {
   "cell_type": "markdown",
   "metadata": {},
   "source": [
    "### Quality 7 - tweets_json table: To match the other tables, the id field should be \"tweet id.\""
   ]
  },
  {
   "cell_type": "markdown",
   "metadata": {},
   "source": [
    "#### Define\n",
    "modify the name of the id column in tweets_json table to 'tweet_id'"
   ]
  },
  {
   "cell_type": "markdown",
   "metadata": {},
   "source": [
    "#### Code"
   ]
  },
  {
   "cell_type": "code",
   "execution_count": null,
   "metadata": {
    "ExecuteTime": {
     "end_time": "2022-12-20T18:56:13.542742Z",
     "start_time": "2022-12-20T18:56:13.529776Z"
    }
   },
   "outputs": [],
   "source": [
    "# used .rename method to change cloumn name from 'id' to 'tweet_id'\n",
    "\n",
    "clean_tweets_df.rename(columns = {'id' : \"tweet_id\"}, inplace= True)"
   ]
  },
  {
   "cell_type": "markdown",
   "metadata": {},
   "source": [
    "#### Test"
   ]
  },
  {
   "cell_type": "code",
   "execution_count": null,
   "metadata": {
    "ExecuteTime": {
     "end_time": "2022-12-20T18:56:13.558698Z",
     "start_time": "2022-12-20T18:56:13.545732Z"
    }
   },
   "outputs": [],
   "source": [
    "# displaying some information about the clean_tweets_df dataframe\n",
    "# to determine whether the required change has been made\n",
    "\n",
    "clean_tweets_df.info()"
   ]
  },
  {
   "cell_type": "markdown",
   "metadata": {},
   "source": [
    "### Quality 8 - tweets_json table: No need for the retweet_count column."
   ]
  },
  {
   "cell_type": "markdown",
   "metadata": {},
   "source": [
    "#### Define\n",
    "Drop the retweet_count column"
   ]
  },
  {
   "cell_type": "markdown",
   "metadata": {},
   "source": [
    "#### Code"
   ]
  },
  {
   "cell_type": "code",
   "execution_count": null,
   "metadata": {
    "ExecuteTime": {
     "end_time": "2022-12-20T18:56:13.574658Z",
     "start_time": "2022-12-20T18:56:13.560693Z"
    }
   },
   "outputs": [],
   "source": [
    "clean_tweets_df.drop('retweet_count', axis=1, inplace=True)"
   ]
  },
  {
   "cell_type": "markdown",
   "metadata": {},
   "source": [
    "#### Test"
   ]
  },
  {
   "cell_type": "code",
   "execution_count": null,
   "metadata": {
    "ExecuteTime": {
     "end_time": "2022-12-20T18:56:13.590613Z",
     "start_time": "2022-12-20T18:56:13.576650Z"
    }
   },
   "outputs": [],
   "source": [
    "# displaying column names for clean_tweets_df dataframe\n",
    "# to determine whether the required change has been made\n",
    "\n",
    "clean_tweets_df.columns"
   ]
  },
  {
   "cell_type": "markdown",
   "metadata": {},
   "source": [
    "### Tidiness 1 -  dog_rate table: There should be just one column for doggo, floofer, pupper, and puppo in dog_rate table"
   ]
  },
  {
   "cell_type": "markdown",
   "metadata": {},
   "source": [
    "#### Define\n",
    "Create a single column to represent the dog stage, then eliminate all the other columns that symbolizes the various dog stages."
   ]
  },
  {
   "cell_type": "markdown",
   "metadata": {},
   "source": [
    "#### Code"
   ]
  },
  {
   "cell_type": "code",
   "execution_count": null,
   "metadata": {
    "ExecuteTime": {
     "end_time": "2022-12-20T18:56:13.622529Z",
     "start_time": "2022-12-20T18:56:13.594603Z"
    }
   },
   "outputs": [],
   "source": [
    "# Extract the various dog stages from the text column\n",
    "# utilize it to create a dog stage after that.\n",
    "clean_dog_rate[\"dog_stage\"] = clean_dog_rate['text'].str.extract('(doggo|pupper|floofer|puppo)')\n",
    "\n",
    "#drop all four columns\n",
    "clean_dog_rate.drop(columns=['doggo', 'pupper', 'floofer', 'puppo'], inplace = True)"
   ]
  },
  {
   "cell_type": "markdown",
   "metadata": {},
   "source": [
    "#### Test"
   ]
  },
  {
   "cell_type": "code",
   "execution_count": null,
   "metadata": {
    "ExecuteTime": {
     "end_time": "2022-12-20T18:56:13.654442Z",
     "start_time": "2022-12-20T18:56:13.625520Z"
    }
   },
   "outputs": [],
   "source": [
    "# displaying the top row from the clean_dog_rate dataframe\n",
    "# to determine whether the required change has been made\n",
    "\n",
    "clean_dog_rate.head(1)"
   ]
  },
  {
   "cell_type": "code",
   "execution_count": null,
   "metadata": {
    "ExecuteTime": {
     "end_time": "2022-12-20T18:56:13.670398Z",
     "start_time": "2022-12-20T18:56:13.657434Z"
    }
   },
   "outputs": [],
   "source": [
    "# Display the value count for each dog_stage\n",
    "clean_dog_rate.dog_stage.value_counts()"
   ]
  },
  {
   "cell_type": "markdown",
   "metadata": {},
   "source": [
    "### Tidiness 2: Create a single dataframe from the three gathered data."
   ]
  },
  {
   "cell_type": "markdown",
   "metadata": {},
   "source": [
    "#### Define\n",
    "Combine the first and second dataframes using the reduce function, and then use the result to combine it with the third dataframe."
   ]
  },
  {
   "cell_type": "markdown",
   "metadata": {},
   "source": [
    "#### Code"
   ]
  },
  {
   "cell_type": "code",
   "execution_count": null,
   "metadata": {
    "ExecuteTime": {
     "end_time": "2022-12-20T18:56:13.701317Z",
     "start_time": "2022-12-20T18:56:13.673392Z"
    }
   },
   "outputs": [],
   "source": [
    "# define list of dataframes\n",
    "dfs = [clean_dog_rate, clean_image_predictions, clean_tweets_df]\n",
    "\n",
    "# merge all dataframes into one\n",
    "merged_df = reduce(lambda  left,right: pd.merge(left,right,on=['tweet_id'], how='left'), dfs)"
   ]
  },
  {
   "cell_type": "markdown",
   "metadata": {},
   "source": [
    "#### Test"
   ]
  },
  {
   "cell_type": "code",
   "execution_count": null,
   "metadata": {
    "ExecuteTime": {
     "end_time": "2022-12-20T18:56:13.749192Z",
     "start_time": "2022-12-20T18:56:13.703313Z"
    }
   },
   "outputs": [],
   "source": [
    "# displaying few top rows from the merged dataframe\n",
    "\n",
    "merged_df.head()"
   ]
  },
  {
   "cell_type": "code",
   "execution_count": null,
   "metadata": {
    "ExecuteTime": {
     "end_time": "2022-12-20T18:56:13.765146Z",
     "start_time": "2022-12-20T18:56:13.751184Z"
    }
   },
   "outputs": [],
   "source": [
    "# inspecting the column names for the merged dataframe\n",
    "\n",
    "merged_df.columns"
   ]
  },
  {
   "cell_type": "markdown",
   "metadata": {},
   "source": [
    "<a id='SD'></a>\n",
    "## Storing Data\n",
    "The cell below saved the gathered, assessed, and cleaned master dataset to a CSV file named \"twitter_archive_master.csv\"."
   ]
  },
  {
   "cell_type": "code",
   "execution_count": null,
   "metadata": {
    "ExecuteTime": {
     "end_time": "2022-12-20T18:56:13.844933Z",
     "start_time": "2022-12-20T18:56:13.767141Z"
    }
   },
   "outputs": [],
   "source": [
    "# Saving the cleaned and merged dataframe\n",
    "\n",
    "merged_df.to_csv('twitter_archive_master.csv', index = False)"
   ]
  },
  {
   "cell_type": "markdown",
   "metadata": {},
   "source": [
    "<a id='AVD'></a>\n",
    "## Analyzing and Visualizing Data\n",
    "The analysis and visualization of the wrangled data were done in this section. At least three (3) insights and one (1) visualization should result from this."
   ]
  },
  {
   "cell_type": "code",
   "execution_count": null,
   "metadata": {
    "ExecuteTime": {
     "end_time": "2022-12-20T18:56:13.876848Z",
     "start_time": "2022-12-20T18:56:13.846942Z"
    }
   },
   "outputs": [],
   "source": [
    "# displaying some information about the merged dataframe\n",
    "\n",
    "merged_df.info()"
   ]
  },
  {
   "cell_type": "code",
   "execution_count": null,
   "metadata": {
    "ExecuteTime": {
     "end_time": "2022-12-20T18:56:13.924719Z",
     "start_time": "2022-12-20T18:56:13.879840Z"
    }
   },
   "outputs": [],
   "source": [
    "# displaying some statistics about the merged dataframe\n",
    "\n",
    "merged_df.describe()"
   ]
  },
  {
   "cell_type": "markdown",
   "metadata": {
    "collapsed": true
   },
   "source": [
    "### Visualization"
   ]
  },
  {
   "cell_type": "code",
   "execution_count": null,
   "metadata": {
    "ExecuteTime": {
     "end_time": "2022-12-20T18:56:13.940680Z",
     "start_time": "2022-12-20T18:56:13.927711Z"
    }
   },
   "outputs": [],
   "source": [
    "# Displaying value counts for the unique values in dog_stage\n",
    "\n",
    "merged_df.dog_stage.value_counts()"
   ]
  },
  {
   "cell_type": "code",
   "execution_count": null,
   "metadata": {
    "ExecuteTime": {
     "end_time": "2022-12-20T18:56:14.148121Z",
     "start_time": "2022-12-20T18:56:13.943669Z"
    }
   },
   "outputs": [],
   "source": [
    "# Plotting and labelling a chart for the favorite dog stages\n",
    "\n",
    "plt.bar(x= merged_df['dog_stage'].value_counts().index, height= merged_df.dog_stage.value_counts().values);\n",
    "plt.title(\"Favorite Dog Stages\")\n",
    "plt.xlabel('Dog stages');\n",
    "plt.ylabel('Frequency');"
   ]
  },
  {
   "cell_type": "code",
   "execution_count": null,
   "metadata": {
    "ExecuteTime": {
     "end_time": "2022-12-20T18:56:14.164078Z",
     "start_time": "2022-12-20T18:56:14.151115Z"
    }
   },
   "outputs": [],
   "source": [
    "merged_df.name.value_counts()[0:11]"
   ]
  },
  {
   "cell_type": "code",
   "execution_count": null,
   "metadata": {
    "ExecuteTime": {
     "end_time": "2022-12-20T18:56:14.369537Z",
     "start_time": "2022-12-20T18:56:14.166073Z"
    }
   },
   "outputs": [],
   "source": [
    "# Plotting and labelling a chart for the top 5 Dog Names in Use\n",
    "# Excluding weird names like 'a'\n",
    "\n",
    "merged_df.name.value_counts()[2:7].plot(kind='bar');\n",
    "plt.title('Top 5 Dog Names in Use');\n",
    "plt.xlabel('Dog Names');\n",
    "plt.ylabel('Frequency');\n",
    "plt.xticks(rotation=0);"
   ]
  },
  {
   "cell_type": "markdown",
   "metadata": {},
   "source": [
    "### Insights:\n",
    "1. The most popular Dog stage is Pupper, and the least popular Dog stage is Floofer.\n",
    "2. The most popular dog names are Charlie and Lucy, which are equally popular.\n",
    "3. Lucy, Charlie, Oliver, Coper, and Penny are the top 5 most popular dog names respectively."
   ]
  },
  {
   "cell_type": "code",
   "execution_count": null,
   "metadata": {},
   "outputs": [],
   "source": []
  }
 ],
 "metadata": {
  "extensions": {
   "jupyter_dashboards": {
    "activeView": "report_default",
    "version": 1,
    "views": {
     "grid_default": {
      "cellMargin": 10,
      "defaultCellHeight": 20,
      "maxColumns": 12,
      "name": "grid",
      "type": "grid"
     },
     "report_default": {
      "name": "report",
      "type": "report"
     }
    }
   }
  },
  "kernelspec": {
   "display_name": "Python 3 (ipykernel)",
   "language": "python",
   "name": "python3"
  },
  "language_info": {
   "codemirror_mode": {
    "name": "ipython",
    "version": 3
   },
   "file_extension": ".py",
   "mimetype": "text/x-python",
   "name": "python",
   "nbconvert_exporter": "python",
   "pygments_lexer": "ipython3",
   "version": "3.9.7"
  },
  "toc": {
   "base_numbering": 1,
   "nav_menu": {},
   "number_sections": true,
   "sideBar": true,
   "skip_h1_title": false,
   "title_cell": "Table of Contents",
   "title_sidebar": "Contents",
   "toc_cell": false,
   "toc_position": {},
   "toc_section_display": true,
   "toc_window_display": false
  },
  "varInspector": {
   "cols": {
    "lenName": 16,
    "lenType": 16,
    "lenVar": 40
   },
   "kernels_config": {
    "python": {
     "delete_cmd_postfix": "",
     "delete_cmd_prefix": "del ",
     "library": "var_list.py",
     "varRefreshCmd": "print(var_dic_list())"
    },
    "r": {
     "delete_cmd_postfix": ") ",
     "delete_cmd_prefix": "rm(",
     "library": "var_list.r",
     "varRefreshCmd": "cat(var_dic_list()) "
    }
   },
   "types_to_exclude": [
    "module",
    "function",
    "builtin_function_or_method",
    "instance",
    "_Feature"
   ],
   "window_display": false
  }
 },
 "nbformat": 4,
 "nbformat_minor": 2
}
